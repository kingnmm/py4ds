{
 "cells": [
  {
   "cell_type": "markdown",
   "metadata": {},
   "source": [
    "# Lab 08: Functions"
   ]
  },
  {
   "cell_type": "markdown",
   "metadata": {},
   "source": [
    "Edited Notebook to Flow to GitHub"
   ]
  },
  {
   "cell_type": "code",
   "execution_count": 3,
   "metadata": {},
   "outputs": [
    {
     "name": "stdout",
     "output_type": "stream",
     "text": [
      "10\n",
      "12\n",
      "14\n",
      "16\n",
      "18\n",
      "20\n"
     ]
    }
   ],
   "source": [
    "# Adding look to flow from my computer to GitHub\n",
    "for i in range(10,21):\n",
    "    if i % 2 == 0:\n",
    "        print(i)"
   ]
  },
  {
   "cell_type": "markdown",
   "metadata": {},
   "source": [
    "## #1\n",
    "The formula for the circumference of a circle is *2 * pi * radius*.\n",
    "Write a function, `calculate_circumference`, that accepts a `radius` argument and returns the circumference of a circle with that radius.\n",
    "*Hint: use `pi` from the `math` library.*"
   ]
  },
  {
   "cell_type": "code",
   "execution_count": 3,
   "metadata": {},
   "outputs": [
    {
     "data": {
      "text/plain": [
       "3.141592653589793"
      ]
     },
     "execution_count": 3,
     "metadata": {},
     "output_type": "execute_result"
    }
   ],
   "source": [
    "import math\n",
    "math.pi"
   ]
  },
  {
   "cell_type": "code",
   "execution_count": 37,
   "metadata": {},
   "outputs": [],
   "source": [
    "def calculate_circumference (radius):\n",
    "    return radius * 2 * math.pi\n"
   ]
  },
  {
   "cell_type": "code",
   "execution_count": 38,
   "metadata": {},
   "outputs": [
    {
     "data": {
      "text/plain": [
       "12.566370614359172"
      ]
     },
     "execution_count": 38,
     "metadata": {},
     "output_type": "execute_result"
    }
   ],
   "source": [
    "calculate_circumference(2)"
   ]
  },
  {
   "cell_type": "markdown",
   "metadata": {},
   "source": [
    "## #2\n",
    "Update your function from #1 -- make the radius parameter default to 1."
   ]
  },
  {
   "cell_type": "code",
   "execution_count": 35,
   "metadata": {},
   "outputs": [],
   "source": [
    "def calculate_circumference2 (radius=1):\n",
    "    return radius * 2 * math.pi\n"
   ]
  },
  {
   "cell_type": "code",
   "execution_count": 36,
   "metadata": {},
   "outputs": [
    {
     "data": {
      "text/plain": [
       "6.283185307179586"
      ]
     },
     "execution_count": 36,
     "metadata": {},
     "output_type": "execute_result"
    }
   ],
   "source": [
    "calculate_circumference2()"
   ]
  },
  {
   "cell_type": "markdown",
   "metadata": {},
   "source": [
    "## #3\n",
    "Create a list, `radii`, `[4, 83, 3.7, 9]`.\n",
    "Loop over these elements and use your function from #1 to check the circumference for each radius in that list."
   ]
  },
  {
   "cell_type": "code",
   "execution_count": 39,
   "metadata": {},
   "outputs": [
    {
     "name": "stdout",
     "output_type": "stream",
     "text": [
      "25.132741228718345\n",
      "521.5043804959057\n",
      "23.24778563656447\n",
      "56.548667764616276\n"
     ]
    }
   ],
   "source": [
    "radii = [4, 83, 3.7, 9]\n",
    "for i in radii:\n",
    "    print(calculate_circumference(i))"
   ]
  },
  {
   "cell_type": "markdown",
   "metadata": {},
   "source": [
    "## #4\n",
    "Rewrite your function from #1 (without a default argument) as a lambda function."
   ]
  },
  {
   "cell_type": "code",
   "execution_count": 45,
   "metadata": {},
   "outputs": [
    {
     "data": {
      "text/plain": [
       "12.566370614359172"
      ]
     },
     "execution_count": 45,
     "metadata": {},
     "output_type": "execute_result"
    }
   ],
   "source": [
    "calculate_circumference2 = lambda x: x*2*math.pi\n",
    "calculate_circumference2(2)"
   ]
  },
  {
   "cell_type": "markdown",
   "metadata": {},
   "source": [
    "## #5\n",
    "Repeat #3, but using your lambda function instead.\n",
    "Is anything different about your results?"
   ]
  },
  {
   "cell_type": "code",
   "execution_count": 46,
   "metadata": {},
   "outputs": [
    {
     "name": "stdout",
     "output_type": "stream",
     "text": [
      "25.132741228718345\n",
      "521.5043804959057\n",
      "23.24778563656447\n",
      "56.548667764616276\n"
     ]
    }
   ],
   "source": [
    "#  I didn't notice anything different about the results\n",
    "radii = [4, 83, 3.7, 9]\n",
    "for i in radii:\n",
    "    print(calculate_circumference2(i))"
   ]
  },
  {
   "cell_type": "markdown",
   "metadata": {},
   "source": [
    "## #6\n",
    "Create a function `caller` that accepts two arguments: `func` and `target`.\n",
    "Implement the body of `caller` so that it takes calls the input function (`func`) on the input target (`target`) and returns the result.\n",
    "e.g. `caller(type, 7)` would be the same as `type(7)`, returning `int`."
   ]
  },
  {
   "cell_type": "code",
   "execution_count": 2,
   "metadata": {},
   "outputs": [],
   "source": [
    "def caller (func, target):\n",
    "    return func(int(target))\n",
    "    print(caller())\n"
   ]
  },
  {
   "cell_type": "code",
   "execution_count": 3,
   "metadata": {},
   "outputs": [
    {
     "data": {
      "text/plain": [
       "int"
      ]
     },
     "execution_count": 3,
     "metadata": {},
     "output_type": "execute_result"
    }
   ],
   "source": [
    "caller(type,7)"
   ]
  },
  {
   "cell_type": "markdown",
   "metadata": {},
   "source": [
    "## #7\n",
    "Create a function, `nan_filler`, that takes as arguments a DataFrame and a scalar value. Implement it to return a copy of that DataFrame with all `NaN`s replaced with the scalar value."
   ]
  },
  {
   "cell_type": "code",
   "execution_count": 12,
   "metadata": {},
   "outputs": [],
   "source": [
    "# scalar = input(\"Input scalar: \")\n",
    "def nan_filler (DataFrame, scalar):\n",
    "    return DataFrame.replace(np.NaN, scalar)\n",
    "    "
   ]
  },
  {
   "cell_type": "markdown",
   "metadata": {},
   "source": [
    "## #8\n",
    "Copy the below function defintion to your notebook and try calling it with different inputs.\n",
    "Pass it a single positional argument, several positional arguments, a single keyword argument, several keyword arguments, and then a mix of positional and keyword arguments.\n",
    "Form a hypothesis about how `*args` and `**kwargs` work.\n",
    "```python\n",
    "def weird_func(*args, **kwargs):\n",
    "    print('args', args)\n",
    "    print('kwargs', kwargs)\n",
    "```"
   ]
  },
  {
   "cell_type": "code",
   "execution_count": 57,
   "metadata": {},
   "outputs": [],
   "source": [
    "\"\"\" Answer: *args and **kwargs seem to capture different outputs. *args output a list of arguments, and **kwargs output a\n",
    "dictionary \"\"\"\n",
    "\n",
    "def weird_func(*args, **kwargs):\n",
    "    print('args', args)\n",
    "    print('kwargs', kwargs)"
   ]
  },
  {
   "cell_type": "code",
   "execution_count": 58,
   "metadata": {},
   "outputs": [
    {
     "name": "stdout",
     "output_type": "stream",
     "text": [
      "args ('args',)\n",
      "kwargs {}\n"
     ]
    }
   ],
   "source": [
    "weird_func('args')"
   ]
  },
  {
   "cell_type": "code",
   "execution_count": 59,
   "metadata": {},
   "outputs": [
    {
     "name": "stdout",
     "output_type": "stream",
     "text": [
      "args ('args', 'kwargs')\n",
      "kwargs {}\n"
     ]
    }
   ],
   "source": [
    "weird_func('args', 'kwargs')"
   ]
  },
  {
   "cell_type": "code",
   "execution_count": 60,
   "metadata": {},
   "outputs": [
    {
     "name": "stdout",
     "output_type": "stream",
     "text": [
      "args (88, 99)\n",
      "kwargs {}\n"
     ]
    }
   ],
   "source": [
    "weird_func(88, 99)"
   ]
  },
  {
   "cell_type": "code",
   "execution_count": 62,
   "metadata": {},
   "outputs": [
    {
     "name": "stdout",
     "output_type": "stream",
     "text": [
      "args (88, 99)\n",
      "kwargs {'x': 1, 'y': 2}\n"
     ]
    }
   ],
   "source": [
    "weird_func(88,99, x=1, y=2)"
   ]
  }
 ],
 "metadata": {
  "kernelspec": {
   "display_name": "Python 3",
   "language": "python",
   "name": "python3"
  },
  "language_info": {
   "codemirror_mode": {
    "name": "ipython",
    "version": 3
   },
   "file_extension": ".py",
   "mimetype": "text/x-python",
   "name": "python",
   "nbconvert_exporter": "python",
   "pygments_lexer": "ipython3",
   "version": "3.7.4"
  }
 },
 "nbformat": 4,
 "nbformat_minor": 4
}
